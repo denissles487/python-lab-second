{
 "cells": [
  {
   "cell_type": "code",
   "execution_count": 1,
   "id": "e6728e2b",
   "metadata": {},
   "outputs": [],
   "source": [
    "N = (31 + 4) % 5 + 1 # Варіант за списком 31"
   ]
  },
  {
   "cell_type": "code",
   "execution_count": 2,
   "id": "2004be64",
   "metadata": {},
   "outputs": [
    {
     "data": {
      "text/plain": [
       "1"
      ]
     },
     "execution_count": 2,
     "metadata": {},
     "output_type": "execute_result"
    }
   ],
   "source": [
    "N"
   ]
  },
  {
   "cell_type": "code",
   "execution_count": 7,
   "id": "1c4e85d8",
   "metadata": {},
   "outputs": [
    {
     "data": {
      "text/html": [
       "<div>\n",
       "<style scoped>\n",
       "    .dataframe tbody tr th:only-of-type {\n",
       "        vertical-align: middle;\n",
       "    }\n",
       "\n",
       "    .dataframe tbody tr th {\n",
       "        vertical-align: top;\n",
       "    }\n",
       "\n",
       "    .dataframe thead th {\n",
       "        text-align: right;\n",
       "    }\n",
       "</style>\n",
       "<table border=\"1\" class=\"dataframe\">\n",
       "  <thead>\n",
       "    <tr style=\"text-align: right;\">\n",
       "      <th></th>\n",
       "      <th>Id</th>\n",
       "      <th>Name</th>\n",
       "      <th>Year</th>\n",
       "      <th>Gender</th>\n",
       "      <th>Count</th>\n",
       "    </tr>\n",
       "  </thead>\n",
       "  <tbody>\n",
       "    <tr>\n",
       "      <th>0</th>\n",
       "      <td>1</td>\n",
       "      <td>Mary</td>\n",
       "      <td>1880</td>\n",
       "      <td>F</td>\n",
       "      <td>7065</td>\n",
       "    </tr>\n",
       "    <tr>\n",
       "      <th>1</th>\n",
       "      <td>2</td>\n",
       "      <td>Anna</td>\n",
       "      <td>1880</td>\n",
       "      <td>F</td>\n",
       "      <td>2604</td>\n",
       "    </tr>\n",
       "    <tr>\n",
       "      <th>2</th>\n",
       "      <td>3</td>\n",
       "      <td>Emma</td>\n",
       "      <td>1880</td>\n",
       "      <td>F</td>\n",
       "      <td>2003</td>\n",
       "    </tr>\n",
       "    <tr>\n",
       "      <th>3</th>\n",
       "      <td>4</td>\n",
       "      <td>Elizabeth</td>\n",
       "      <td>1880</td>\n",
       "      <td>F</td>\n",
       "      <td>1939</td>\n",
       "    </tr>\n",
       "    <tr>\n",
       "      <th>4</th>\n",
       "      <td>5</td>\n",
       "      <td>Minnie</td>\n",
       "      <td>1880</td>\n",
       "      <td>F</td>\n",
       "      <td>1746</td>\n",
       "    </tr>\n",
       "    <tr>\n",
       "      <th>5</th>\n",
       "      <td>6</td>\n",
       "      <td>Margaret</td>\n",
       "      <td>1880</td>\n",
       "      <td>F</td>\n",
       "      <td>1578</td>\n",
       "    </tr>\n",
       "    <tr>\n",
       "      <th>6</th>\n",
       "      <td>7</td>\n",
       "      <td>Ida</td>\n",
       "      <td>1880</td>\n",
       "      <td>F</td>\n",
       "      <td>1472</td>\n",
       "    </tr>\n",
       "    <tr>\n",
       "      <th>7</th>\n",
       "      <td>8</td>\n",
       "      <td>Alice</td>\n",
       "      <td>1880</td>\n",
       "      <td>F</td>\n",
       "      <td>1414</td>\n",
       "    </tr>\n",
       "  </tbody>\n",
       "</table>\n",
       "</div>"
      ],
      "text/plain": [
       "   Id       Name  Year Gender  Count\n",
       "0   1       Mary  1880      F   7065\n",
       "1   2       Anna  1880      F   2604\n",
       "2   3       Emma  1880      F   2003\n",
       "3   4  Elizabeth  1880      F   1939\n",
       "4   5     Minnie  1880      F   1746\n",
       "5   6   Margaret  1880      F   1578\n",
       "6   7        Ida  1880      F   1472\n",
       "7   8      Alice  1880      F   1414"
      ]
     },
     "execution_count": 7,
     "metadata": {},
     "output_type": "execute_result"
    }
   ],
   "source": [
    "import pandas as pd\n",
    "\n",
    "data = pd.read_csv('NationalNames.csv')\n",
    "\n",
    "data.head(8)"
   ]
  },
  {
   "cell_type": "code",
   "execution_count": 6,
   "id": "d9951d0f",
   "metadata": {},
   "outputs": [
    {
     "data": {
      "text/html": [
       "<div>\n",
       "<style scoped>\n",
       "    .dataframe tbody tr th:only-of-type {\n",
       "        vertical-align: middle;\n",
       "    }\n",
       "\n",
       "    .dataframe tbody tr th {\n",
       "        vertical-align: top;\n",
       "    }\n",
       "\n",
       "    .dataframe thead th {\n",
       "        text-align: right;\n",
       "    }\n",
       "</style>\n",
       "<table border=\"1\" class=\"dataframe\">\n",
       "  <thead>\n",
       "    <tr style=\"text-align: right;\">\n",
       "      <th></th>\n",
       "      <th>Id</th>\n",
       "      <th>Name</th>\n",
       "      <th>Year</th>\n",
       "      <th>Gender</th>\n",
       "      <th>Count</th>\n",
       "    </tr>\n",
       "  </thead>\n",
       "  <tbody>\n",
       "    <tr>\n",
       "      <th>1825425</th>\n",
       "      <td>1825426</td>\n",
       "      <td>Zo</td>\n",
       "      <td>2014</td>\n",
       "      <td>M</td>\n",
       "      <td>5</td>\n",
       "    </tr>\n",
       "    <tr>\n",
       "      <th>1825426</th>\n",
       "      <td>1825427</td>\n",
       "      <td>Zyeir</td>\n",
       "      <td>2014</td>\n",
       "      <td>M</td>\n",
       "      <td>5</td>\n",
       "    </tr>\n",
       "    <tr>\n",
       "      <th>1825427</th>\n",
       "      <td>1825428</td>\n",
       "      <td>Zyel</td>\n",
       "      <td>2014</td>\n",
       "      <td>M</td>\n",
       "      <td>5</td>\n",
       "    </tr>\n",
       "    <tr>\n",
       "      <th>1825428</th>\n",
       "      <td>1825429</td>\n",
       "      <td>Zykeem</td>\n",
       "      <td>2014</td>\n",
       "      <td>M</td>\n",
       "      <td>5</td>\n",
       "    </tr>\n",
       "    <tr>\n",
       "      <th>1825429</th>\n",
       "      <td>1825430</td>\n",
       "      <td>Zymeer</td>\n",
       "      <td>2014</td>\n",
       "      <td>M</td>\n",
       "      <td>5</td>\n",
       "    </tr>\n",
       "    <tr>\n",
       "      <th>1825430</th>\n",
       "      <td>1825431</td>\n",
       "      <td>Zymiere</td>\n",
       "      <td>2014</td>\n",
       "      <td>M</td>\n",
       "      <td>5</td>\n",
       "    </tr>\n",
       "    <tr>\n",
       "      <th>1825431</th>\n",
       "      <td>1825432</td>\n",
       "      <td>Zyran</td>\n",
       "      <td>2014</td>\n",
       "      <td>M</td>\n",
       "      <td>5</td>\n",
       "    </tr>\n",
       "    <tr>\n",
       "      <th>1825432</th>\n",
       "      <td>1825433</td>\n",
       "      <td>Zyrin</td>\n",
       "      <td>2014</td>\n",
       "      <td>M</td>\n",
       "      <td>5</td>\n",
       "    </tr>\n",
       "  </tbody>\n",
       "</table>\n",
       "</div>"
      ],
      "text/plain": [
       "              Id     Name  Year Gender  Count\n",
       "1825425  1825426       Zo  2014      M      5\n",
       "1825426  1825427    Zyeir  2014      M      5\n",
       "1825427  1825428     Zyel  2014      M      5\n",
       "1825428  1825429   Zykeem  2014      M      5\n",
       "1825429  1825430   Zymeer  2014      M      5\n",
       "1825430  1825431  Zymiere  2014      M      5\n",
       "1825431  1825432    Zyran  2014      M      5\n",
       "1825432  1825433    Zyrin  2014      M      5"
      ]
     },
     "execution_count": 6,
     "metadata": {},
     "output_type": "execute_result"
    }
   ],
   "source": [
    "data.tail(8)"
   ]
  },
  {
   "cell_type": "code",
   "execution_count": 8,
   "id": "8f7f1235",
   "metadata": {},
   "outputs": [
    {
     "data": {
      "text/plain": [
       "Index(['Id', 'Name', 'Year', 'Gender', 'Count'], dtype='object')"
      ]
     },
     "execution_count": 8,
     "metadata": {},
     "output_type": "execute_result"
    }
   ],
   "source": [
    "data.columns"
   ]
  },
  {
   "cell_type": "code",
   "execution_count": 9,
   "id": "82403bbd",
   "metadata": {},
   "outputs": [
    {
     "data": {
      "text/plain": [
       "93889"
      ]
     },
     "execution_count": 9,
     "metadata": {},
     "output_type": "execute_result"
    }
   ],
   "source": [
    "unique_names_count = data['Name'].nunique()\n",
    "\n",
    "unique_names_count"
   ]
  },
  {
   "cell_type": "code",
   "execution_count": 10,
   "id": "4e0412e7",
   "metadata": {},
   "outputs": [
    {
     "data": {
      "text/plain": [
       "Year\n",
       "1880     1889\n",
       "1881     1830\n",
       "1882     2012\n",
       "1883     1962\n",
       "1884     2158\n",
       "        ...  \n",
       "2010    31603\n",
       "2011    31418\n",
       "2012    31236\n",
       "2013    30774\n",
       "2014    30579\n",
       "Name: Name, Length: 135, dtype: int64"
      ]
     },
     "execution_count": 10,
     "metadata": {},
     "output_type": "execute_result"
    }
   ],
   "source": [
    "unique_names_per_year = data.groupby('Year')['Name'].nunique()\n",
    "\n",
    "unique_names_per_year"
   ]
  },
  {
   "cell_type": "code",
   "execution_count": 11,
   "id": "2d76c9ec",
   "metadata": {},
   "outputs": [
    {
     "data": {
      "text/plain": [
       "Year                2008\n",
       "UniqueNameCount    32488\n",
       "Name: 128, dtype: int64"
      ]
     },
     "execution_count": 11,
     "metadata": {},
     "output_type": "execute_result"
    }
   ],
   "source": [
    "unique_names_per_year = pd.DataFrame(data.groupby('Year')['Name'].nunique()).reset_index()\n",
    "unique_names_per_year.columns = ['Year', 'UniqueNameCount']\n",
    "\n",
    "year_with_max_unique_names = unique_names_per_year.loc[unique_names_per_year['UniqueNameCount'].idxmax()]\n",
    "\n",
    "year_with_max_unique_names"
   ]
  },
  {
   "cell_type": "code",
   "execution_count": 13,
   "id": "69a13a85",
   "metadata": {},
   "outputs": [
    {
     "name": "stdout",
     "output_type": "stream",
     "text": [
      "Рік з найбільшою кількістю унікальних імен: 2008\n",
      "Найпопулярніше ім'я в цьому році: Jacob з кількістю 22568\n"
     ]
    }
   ],
   "source": [
    "year_with_most_unique_names = data.groupby('Year')['Name'].nunique().idxmax()\n",
    "data_year = data[data['Year'] == year_with_most_unique_names]\n",
    "\n",
    "most_popular_name = data_year.loc[data_year['Count'].idxmax(), 'Name']\n",
    "most_popular_name_count = data_year['Count'].max()\n",
    "\n",
    "print(f\"Рік з найбільшою кількістю унікальних імен: {year_with_most_unique_names}\")\n",
    "print(f\"Найпопулярніше ім'я в цьому році: {most_popular_name} з кількістю {most_popular_name_count}\")"
   ]
  },
  {
   "cell_type": "code",
   "execution_count": 14,
   "id": "9a323aec",
   "metadata": {},
   "outputs": [
    {
     "name": "stdout",
     "output_type": "stream",
     "text": [
      "Рік, коли ім'я 'Jacob' було найпопулярнішим серед жіночих імен: 2004\n",
      "Кількість у цей рік: 171\n"
     ]
    }
   ],
   "source": [
    "jacob_female = data[(data['Name'] == 'Jacob') & (data['Gender'] == 'F')]\n",
    "\n",
    "if not jacob_female.empty:\n",
    "    year_most_popular_jacob_female = jacob_female.loc[jacob_female['Count'].idxmax(), 'Year']\n",
    "    count_most_popular_jacob_female = jacob_female['Count'].max()\n",
    "    \n",
    "    print(f\"Рік, коли ім'я 'Jacob' було найпопулярнішим серед жіночих імен: {year_most_popular_jacob_female}\")\n",
    "    print(f\"Кількість у цей рік: {count_most_popular_jacob_female}\")\n",
    "else:\n",
    "    print(\"Ім'я 'Jacob' не зустрічалося серед жіночих імен.\")"
   ]
  },
  {
   "cell_type": "code",
   "execution_count": 15,
   "id": "83cdf912",
   "metadata": {},
   "outputs": [
    {
     "name": "stdout",
     "output_type": "stream",
     "text": [
      "Рік із найбільшою кількістю гендерно нейтральних імен: 2008\n",
      "Кількість гендерно нейтральних імен у цей рік: 2557\n"
     ]
    }
   ],
   "source": [
    "neutral_names = data.groupby(['Year', 'Name'])['Gender'].nunique().reset_index()\n",
    "neutral_names = neutral_names[neutral_names['Gender'] == 2]\n",
    "\n",
    "neutral_names_count = neutral_names.groupby('Year').size()\n",
    "\n",
    "year_most_neutral_names = neutral_names_count.idxmax()\n",
    "max_neutral_names_count = neutral_names_count.max()\n",
    "\n",
    "print(f\"Рік із найбільшою кількістю гендерно нейтральних імен: {year_most_neutral_names}\")\n",
    "print(f\"Кількість гендерно нейтральних імен у цей рік: {max_neutral_names_count}\")"
   ]
  },
  {
   "cell_type": "code",
   "execution_count": 16,
   "id": "62432b71",
   "metadata": {},
   "outputs": [
    {
     "name": "stdout",
     "output_type": "stream",
     "text": [
      "Загальна кількість народжень за кожен рік:\n",
      "Year\n",
      "1880     201484\n",
      "1881     192699\n",
      "1882     221538\n",
      "1883     216950\n",
      "1884     243467\n",
      "         ...   \n",
      "2010    3686589\n",
      "2011    3646730\n",
      "2012    3643336\n",
      "2013    3626802\n",
      "2014    3670151\n",
      "Name: Count, Length: 135, dtype: int64\n"
     ]
    }
   ],
   "source": [
    "total_births_per_year = data.groupby('Year')['Count'].sum()\n",
    "\n",
    "print(\"Загальна кількість народжень за кожен рік:\")\n",
    "print(total_births_per_year)"
   ]
  },
  {
   "cell_type": "code",
   "execution_count": 17,
   "id": "bc7316b2",
   "metadata": {},
   "outputs": [
    {
     "name": "stdout",
     "output_type": "stream",
     "text": [
      "Рік, коли народилося найбільше дітей: 1957\n",
      "Кількість народжень у цей рік: 4200026\n"
     ]
    }
   ],
   "source": [
    "total_births_per_year = data.groupby('Year')['Count'].sum()\n",
    "\n",
    "year_most_births = total_births_per_year.idxmax()\n",
    "max_births = total_births_per_year.max()\n",
    "\n",
    "print(f\"Рік, коли народилося найбільше дітей: {year_most_births}\")\n",
    "print(f\"Кількість народжень у цей рік: {max_births}\")"
   ]
  },
  {
   "cell_type": "code",
   "execution_count": 18,
   "id": "cde309b6",
   "metadata": {},
   "outputs": [
    {
     "name": "stdout",
     "output_type": "stream",
     "text": [
      "Кількість дівчаток та хлопчиків, які народились кожного року:\n",
      "Gender        F        M\n",
      "Year                    \n",
      "1880      90993   110491\n",
      "1881      91954   100745\n",
      "1882     107850   113688\n",
      "1883     112321   104629\n",
      "1884     129022   114445\n",
      "...         ...      ...\n",
      "2010    1772738  1913851\n",
      "2011    1753500  1893230\n",
      "2012    1753922  1889414\n",
      "2013    1745339  1881463\n",
      "2014    1768775  1901376\n",
      "\n",
      "[135 rows x 2 columns]\n"
     ]
    }
   ],
   "source": [
    "births_by_gender_year = data.groupby(['Year', 'Gender'])['Count'].sum().unstack()\n",
    "\n",
    "print(\"Кількість дівчаток та хлопчиків, які народились кожного року:\")\n",
    "print(births_by_gender_year)"
   ]
  },
  {
   "cell_type": "code",
   "execution_count": 24,
   "id": "1eea6f42",
   "metadata": {},
   "outputs": [
    {
     "data": {
      "text/plain": [
       "54"
      ]
     },
     "execution_count": 24,
     "metadata": {},
     "output_type": "execute_result"
    }
   ],
   "source": [
    "births_by_gender_year = data.groupby(['Year', 'Gender'])['Count'].sum().unstack()\n",
    "years_more_females = (births_by_gender_year['F'] > births_by_gender_year['M']).sum()\n",
    "\n",
    "years_more_females"
   ]
  },
  {
   "cell_type": "code",
   "execution_count": 23,
   "id": "23bf126a",
   "metadata": {},
   "outputs": [
    {
     "data": {
      "text/plain": [
       "4139"
      ]
     },
     "execution_count": 23,
     "metadata": {},
     "output_type": "execute_result"
    }
   ],
   "source": [
    "barbara_male = data[(data['Name'] == 'Barbara') & (data['Gender'] == 'M')]\n",
    "total_barbara_male = barbara_male['Count'].sum()\n",
    "\n",
    "total_barbara_male"
   ]
  },
  {
   "cell_type": "code",
   "execution_count": 22,
   "id": "cfb13a33",
   "metadata": {},
   "outputs": [
    {
     "data": {
      "text/plain": [
       "135"
      ]
     },
     "execution_count": 22,
     "metadata": {},
     "output_type": "execute_result"
    }
   ],
   "source": [
    "num_years = data['Year'].nunique()\n",
    "\n",
    "num_years"
   ]
  },
  {
   "cell_type": "code",
   "execution_count": 25,
   "id": "c34b8c5e",
   "metadata": {},
   "outputs": [
    {
     "data": {
      "text/plain": [
       "Name\n",
       "James      5129096\n",
       "John       5106590\n",
       "Robert     4816785\n",
       "William    4071368\n",
       "Joseph     2580687\n",
       "Jean        480901\n",
       "Jesse       421406\n",
       "Leslie      376587\n",
       "Francis     312147\n",
       "Lee         291691\n",
       "Jessie      274931\n",
       "Marion      259549\n",
       "Johnnie     149953\n",
       "Sidney      105185\n",
       "Ollie        56482\n",
       "Tommie       51315\n",
       "Name: Count, dtype: int64"
      ]
     },
     "execution_count": 25,
     "metadata": {},
     "output_type": "execute_result"
    }
   ],
   "source": [
    "neutral_names = data.groupby(['Year', 'Name'])['Gender'].nunique().reset_index()\n",
    "neutral_names = neutral_names[neutral_names['Gender'] == 2]\n",
    "\n",
    "all_years = set(data['Year'].unique())\n",
    "names_by_year = neutral_names.groupby('Name')['Year'].apply(set)\n",
    "consistent_neutral_names = [name for name, years in names_by_year.items() if years == all_years]\n",
    "\n",
    "popular_names = data[data['Name'].isin(consistent_neutral_names)].groupby('Name')['Count'].sum()\n",
    "popular_names = popular_names.sort_values(ascending=False)\n",
    "\n",
    "popular_names"
   ]
  },
  {
   "cell_type": "code",
   "execution_count": 27,
   "id": "e3825703",
   "metadata": {},
   "outputs": [
    {
     "name": "stdout",
     "output_type": "stream",
     "text": [
      "Найпопулярніше серед непопулярних імен: Abrina\n",
      "Кількість використань цього імені: 149\n"
     ]
    }
   ],
   "source": [
    "name_counts = data.groupby('Name')['Count'].sum()\n",
    "\n",
    "unpopular_names = name_counts[name_counts < 150]\n",
    "\n",
    "most_popular_of_unpopular = unpopular_names.idxmax()\n",
    "most_popular_of_unpopular_count = unpopular_names.max()\n",
    "\n",
    "print(f\"Найпопулярніше серед непопулярних імен: {most_popular_of_unpopular}\")\n",
    "print(f\"Кількість використань цього імені: {most_popular_of_unpopular_count}\")"
   ]
  },
  {
   "cell_type": "code",
   "execution_count": 31,
   "id": "3465ffe4",
   "metadata": {},
   "outputs": [
    {
     "data": {
      "image/png": "[encoded data removed]",
      "text/plain": [
       "<Figure size 1200x600 with 1 Axes>"
      ]
     },
     "metadata": {},
     "output_type": "display_data"
    }
   ],
   "source": [
    "import pandas as pd\n",
    "import matplotlib.pyplot as plt\n",
    "\n",
    "data = pd.read_csv('NationalNames.csv')\n",
    "\n",
    "john_female = data[(data['Name'] == 'John') & (data['Gender'] == 'F')]\n",
    "mary_male = data[(data['Name'] == 'Mary') & (data['Gender'] == 'M')]\n",
    "\n",
    "plt.figure(figsize=(12, 6))\n",
    "\n",
    "plt.plot(john_female['Year'], john_female['Count'], label=\"John\", color='red')\n",
    "\n",
    "plt.plot(mary_male['Year'], mary_male['Count'], label=\"Mary\", color='green')\n",
    "\n",
    "plt.ylabel(\"Кількість\")\n",
    "plt.legend()\n",
    "\n",
    "plt.show()"
   ]
  },
  {
   "cell_type": "code",
   "execution_count": null,
   "id": "c98e49b2",
   "metadata": {},
   "outputs": [],
   "source": []
  }
 ],
 "metadata": {
  "kernelspec": {
   "display_name": "Python 3 (ipykernel)",
   "language": "python",
   "name": "python3"
  },
  "language_info": {
   "codemirror_mode": {
    "name": "ipython",
    "version": 3
   },
   "file_extension": ".py",
   "mimetype": "text/x-python",
   "name": "python",
   "nbconvert_exporter": "python",
   "pygments_lexer": "ipython3",
   "version": "3.11.5"
  }
 },
 "nbformat": 4,
 "nbformat_minor": 5
}
